{
 "cells": [
  {
   "cell_type": "code",
   "execution_count": 2,
   "metadata": {},
   "outputs": [],
   "source": [
    "import numpy as np\n",
    "class price_node:\n",
    "    def __init__(self, step, S ,K,cp='call',ae='European'):\n",
    "        self.step = step\n",
    "        self.S = S\n",
    "        self.value = max(S-K,0) if cp=='call' else max(K-S,0)\n",
    "        self.left = None\n",
    "        self.right = None    \n",
    "    def __repr__(self):\n",
    "        return str('step:'+str(self.step)+'     S:'+str(self.S)+'   value:'+str(self.value))\n",
    "    \n",
    "class binomial_tree:\n",
    "    #this is not most effecient way to generate tree, recurvise by brother node is better\n",
    "    def __init__(self, sigma = 0.1, r = 0.05, S0 = 10, K = 12, T = 3, dt =0.5,cp='call',ae='European'):\n",
    "        self.n=int(T/dt)#terminal step\n",
    "        self.root = price_node(0,S0,K)\n",
    "        self.r=r;self.sigma=sigma\n",
    "        self.S0=S0;self.K=K\n",
    "        self.T=T;self.dt=dt\n",
    "        self.u=np.exp(sigma*dt**0.5) ;self.d=np.exp(-sigma*dt**0.5)\n",
    "        self.p=(np.exp(r*dt)-self.d)/(self.u-self.d)\n",
    "        self.value=0\n",
    "        self.n=int(T/dt)\n",
    "        self.cp=cp\n",
    "        self.ae=ae\n",
    "        self.generate_tree(self.root)\n",
    "    \n",
    "    def generate_tree(self,node):\n",
    "        if node.step==self.n:\n",
    "            node.value=max(node.S-self.K,0) if self.cp=='call' else max(self.K-node.S,0)\n",
    "        else:\n",
    "            node.left=price_node(node.step+1,node.S*self.u,self.K,cp=self.cp,ae=self.ae)\n",
    "            node.right=price_node(node.step+1,node.S*self.d,self.K,cp=self.cp,ae=self.ae)\n",
    "            self.generate_tree(node.left)\n",
    "            self.generate_tree(node.right)\n",
    "            if self.ae=='European':\n",
    "                node.value=np.exp(-self.r*self.dt)*(self.p*node.left.value+(1-self.p)*node.right.value)\n",
    "            else:\n",
    "                node.value=max(np.exp(-self.r*self.dt)*(self.p*node.left.value+(1-self.p)*node.right.value), node.value)    \n",
    "\n",
    "    def print_tree(self,node):\n",
    "        if node is None:\n",
    "            return\n",
    "        print(node)\n",
    "        self.print_tree(node.left)\n",
    "        self.print_tree(node.right)\n",
    "\n"
   ]
  },
  {
   "cell_type": "code",
   "execution_count": 3,
   "metadata": {},
   "outputs": [
    {
     "name": "stdout",
     "output_type": "stream",
     "text": [
      "step:0     S:29   value:2.83771598784725\n",
      "step:1     S:34.60757280399054   value:0.4940878867328611\n",
      "step:2     S:41.29945156494848   value:0\n",
      "step:2     S:29.000000000000004   value:0.9999999999999964\n",
      "step:1     S:24.301039681783916   value:5.252318506307964\n",
      "step:2     S:29.0   value:1.0\n",
      "step:2     S:20.363466538470227   value:9.636533461529773\n"
     ]
    }
   ],
   "source": [
    "tree=binomial_tree(S0=29,K=30,T=1,dt=0.5,sigma=0.25,r=0.03,cp='put',ae='European')   \n",
    "tree.print_tree(tree.root)"
   ]
  },
  {
   "cell_type": "code",
   "execution_count": 4,
   "metadata": {},
   "outputs": [
    {
     "name": "stdout",
     "output_type": "stream",
     "text": [
      "step:0     S:29   value:3.05839629681947\n",
      "step:1     S:34.60757280399054   value:0.4940878867328611\n",
      "step:2     S:41.29945156494848   value:0\n",
      "step:2     S:29.000000000000004   value:0.9999999999999964\n",
      "step:1     S:24.301039681783916   value:5.698960318216084\n",
      "step:2     S:29.0   value:1.0\n",
      "step:2     S:20.363466538470227   value:9.636533461529773\n"
     ]
    }
   ],
   "source": [
    "tree=binomial_tree(S0=29,K=30,T=1,dt=0.5,sigma=0.25,r=0.03,cp='put',ae='American')   \n",
    "tree.print_tree(tree.root)"
   ]
  },
  {
   "attachments": {},
   "cell_type": "markdown",
   "metadata": {},
   "source": [
    "Cheuk-Vorst is another way to calculate American option price, and it only uses half of the tree."
   ]
  },
  {
   "attachments": {},
   "cell_type": "markdown",
   "metadata": {},
   "source": [
    "Trinomial schemes:\n",
    "$$V=\\frac{p_1V_u^{\\Delta t}+p_2V_u^{\\Delta t}+p_3V_u^{\\Delta t}}{e^{r\\Delta t}}$$\n",
    "$$p1=\\frac{1}{\\lambda^2}+\\frac{(r-\\frac{\\sigma^2}{2}) \\sqrt{\\Delta t}}{2\\lambda\\sigma}$$\n",
    "$$p2=1-\\frac{1}{\\lambda^2}$$\n",
    "$$p3=\\frac{1}{\\lambda^2}-\\frac{(r-\\frac{\\sigma^2}{2}) \\sqrt{\\Delta t}}{2\\lambda\\sigma}$$\n",
    "\n",
    "our experience is that $\\lambda=\\sqrt{3}$ is the best"
   ]
  },
  {
   "attachments": {},
   "cell_type": "markdown",
   "metadata": {},
   "source": [
    "Multistate extension- Kamrad-Ritchken's Approach($\\lambda>=1$ is a free parameter)\n",
    "\n",
    "$$p1(s1u,s2u)=\\frac{1}{4}(\\frac{1}{\\lambda^2}+\\frac{\\sqrt{\\Delta t}}{\\lambda}(\\frac{r-\\frac{\\sigma^2_1}{2}}{\\sigma_1}+\\frac{r-\\frac{\\sigma^2_2}{2}}{\\sigma_2})+\\frac{\\rho}{\\lambda^2})$$\n",
    "$$p2(s1u,s2d)=\\frac{1}{4}(\\frac{1}{\\lambda^2}+\\frac{\\sqrt{\\Delta t}}{\\lambda}(\\frac{r-\\frac{\\sigma^2_1}{2}}{\\sigma_1}-\\frac{r-\\frac{\\sigma^2_2}{2}}{\\sigma_2})-\\frac{\\rho}{\\lambda^2})$$\n",
    "$$p3(s1d,s2d)=\\frac{1}{4}(\\frac{1}{\\lambda^2}+\\frac{\\sqrt{\\Delta t}}{\\lambda}(-\\frac{r-\\frac{\\sigma^2_1}{2}}{\\sigma_1}-\\frac{r-\\frac{\\sigma^2_2}{2}}{\\sigma_2})+\\frac{\\rho}{\\lambda^2})$$\n",
    "$$p4(s1d,s2u)=\\frac{1}{4}(\\frac{1}{\\lambda^2}+\\frac{\\sqrt{\\Delta t}}{\\lambda}(-\\frac{r-\\frac{\\sigma^2_1}{2}}{\\sigma_1}+\\frac{r-\\frac{\\sigma^2_2}{2}}{\\sigma_2})-\\frac{\\rho}{\\lambda^2})$$\n",
    "$$p5(s1h,s2h)=1-\\frac{1}{\\lambda^2}$$"
   ]
  },
  {
   "attachments": {},
   "cell_type": "markdown",
   "metadata": {},
   "source": [
    "Forward shooting grid methods(path dependent options)\n",
    "\n",
    "The approach of appending au auxiliary state vector at each node in the lattice tree to model the correlated evolution of $F_t$ with $S_t$ is commonly called the FSG method. path dependent function:\n",
    "$$F_{t+\\Delta t}=G(F_t,t,S_{t+\\Delta t})$$\n",
    "\n",
    "Let $g(k,n,j)$ denote the grid function which is considered as the discrete analog of the evolution function G, here K is the index for $F_t$,n is the index for t and j is the index for $S_{t+\\Delta t}$\n",
    "\n",
    "The trinomial version of FSG scheme can be represented as:\n",
    "$$V^n_{j,k}=[p_uV^{n+1}_{j+1,g(k,n,j+1)} + p_0V^{n+1}_{j,g(k,n,j)}+ p_dV^{n+1}_{j-1,g(k,n,j-1)}]e^{-r \\Delta t}$$"
   ]
  },
  {
   "cell_type": "code",
   "execution_count": 70,
   "metadata": {},
   "outputs": [],
   "source": [
    "import numpy as np\n",
    "para_dic={'r':0.03, 'sigma1':0.1, 'sigma2':0.1,'rho':0.1,'lambda':3**0.5 ,'K':0.87, 'T':0.5, 'dt':1/252,'ob_day':63}\n",
    "para_dic['puu']=0.25*(1/para_dic['lambda']**2+para_dic['dt']**0.5/para_dic['lambda']*\\\n",
    "    ((para_dic['r']-para_dic['sigma1']**2/2)/para_dic['sigma1']+(para_dic['r']-para_dic['sigma2']**2/2)/para_dic['sigma2'])\\\n",
    "        +para_dic['rho']/para_dic['lambda']**2)\n",
    "para_dic['pud']=0.25*(1/para_dic['lambda']**2+para_dic['dt']**0.5/para_dic['lambda']*\\\n",
    "    ((para_dic['r']-para_dic['sigma1']**2/2)/para_dic['sigma1']-(para_dic['r']-para_dic['sigma2']**2/2)/para_dic['sigma2'])\\\n",
    "        -para_dic['rho']/para_dic['lambda']**2)\n",
    "para_dic['pdd']=0.25*(1/para_dic['lambda']**2+para_dic['dt']**0.5/para_dic['lambda']*\\\n",
    "    (-(para_dic['r']-para_dic['sigma1']**2/2)/para_dic['sigma1']-(para_dic['r']-para_dic['sigma2']**2/2)/para_dic['sigma2'])\\\n",
    "        +para_dic['rho']/para_dic['lambda']**2)\n",
    "para_dic['pdu']=0.25*(1/para_dic['lambda']**2+para_dic['dt']**0.5/para_dic['lambda']*\\\n",
    "    (-(para_dic['r']-para_dic['sigma1']**2/2)/para_dic['sigma1']+(para_dic['r']-para_dic['sigma2']**2/2)/para_dic['sigma2'])\\\n",
    "        -para_dic['rho']/para_dic['lambda']**2)\n",
    "para_dic['phh']=1-1/para_dic['lambda']**2\n",
    "para_dic['u1']=np.exp(para_dic['lambda']*para_dic['sigma1']*para_dic['dt']**0.5)\n",
    "para_dic['u2']=np.exp(para_dic['lambda']*para_dic['sigma2']*para_dic['dt']**0.5)\n",
    "para_dic['d1']=np.exp(-para_dic['lambda']*para_dic['sigma1']*para_dic['dt']**0.5)\n",
    "para_dic['d2']=np.exp(-para_dic['lambda']*para_dic['sigma2']*para_dic['dt']**0.5)\n",
    "para_dic['notion']=1_000_000\n",
    "para_dic['coupon_rate']=0.04075\n",
    "para_dic['coupon']=para_dic['coupon_rate']*para_dic['dt']*para_dic['notion']\n",
    "para_dic['n']=int(para_dic['T']/para_dic['dt'])\n",
    "\n",
    "#def lattice_tree(**para_dic):\n",
    "S1=1;S2=1\n",
    "array=np.zeros((para_dic['n']+1,(2*para_dic['n']+1)**2),dtype=np.float64)\n",
    "\n",
    "\n",
    "for t in range(para_dic['n']+1):\n",
    "    term=para_dic['n']-t\n",
    "    for i in range(-term,term+1): #the absolute of (upward times - downward times) of S1\n",
    "        for j in range(-term,term+1): #the absolute of (upward times - downward times) of S2\n",
    "            if term==para_dic['n']:\n",
    "                array[term, (i+term)*(2*term+1 )+(j+term)]=(1-max(1-min(S1*para_dic['u1']**(i)/para_dic['K']\\\n",
    "                                            ,S2*para_dic['u2']**(j)/para_dic['K']),0))*para_dic['notion']\\\n",
    "                                                +para_dic['coupon']*para_dic['ob_day']\n",
    "            elif term==63:\n",
    "                array[term,(i+term)*(2*term+1 )+(j+term)]=np.exp(-para_dic['r']*para_dic['dt'])*\\\n",
    "                    (para_dic['puu']*array[term+1,(i+term+1+1)*(2*term+1+2)+(j+term+1+1)]+\\\n",
    "                        para_dic['pud']*array[term+1,(i+term+1+1)*(2*term+1+2)+(j+term+1-1)]+\\\n",
    "                            para_dic['pdu']*array[term+1,(i+term+1-1)*(2*term+1+2)+(j+term+1+1)]+\\\n",
    "                                para_dic['pdd']*array[term+1,(i+term+1-1)*(2*term+1+2)+(j+term+1-1)]+\\\n",
    "                                    para_dic['phh']*array[term+1,(i+term+1)*(2*term+1+2)+(j+term+1)])+\\\n",
    "                                        4*para_dic['ob_day']*para_dic['coupon']\n",
    "                                        \n",
    "            elif term<63:                    \n",
    "                array[term,(i+term)*(2*term+1 )+(j+term)]=np.exp(-para_dic['r']*para_dic['dt'])*\\\n",
    "                    (para_dic['puu']*array[term+1,(i+term+1+1)*(2*term+1+2)+(j+term+1+1)]+\\\n",
    "                        para_dic['pud']*array[term+1,(i+term+1+1)*(2*term+1+2)+(j+term+1-1)]+\\\n",
    "                            para_dic['pdu']*array[term+1,(i+term+1-1)*(2*term+1+2)+(j+term+1+1)]+\\\n",
    "                                para_dic['pdd']*array[term+1,(i+term+1-1)*(2*term+1+2)+(j+term+1-1)]+\\\n",
    "                                    para_dic['phh']*array[term+1,(i+term+1)*(2*term+1+2)+(j+term+1)])\n",
    "                                                       \n",
    "            elif term%para_dic['ob_day']==0: \n",
    "                W_cont=np.exp(-para_dic['r']*para_dic['dt'])*\\\n",
    "                    (para_dic['puu']*array[term+1,(i+term+1+1)*(2*term+1+2)+(j+term+1+1)]+\\\n",
    "                        para_dic['pud']*array[term+1,(i+term+1+1)*(2*term+1+2)+(j+term+1-1)]+\\\n",
    "                            para_dic['pdu']*array[term+1,(i+term+1-1)*(2*term+1+2)+(j+term+1+1)]+\\\n",
    "                                para_dic['pdd']*array[term+1,(i+term+1-1)*(2*term+1+2)+(j+term+1-1)]+\\\n",
    "                                    para_dic['phh']*array[term+1,(i+term+1)*(2*term+1+2)+(j+term+1)])+\\\n",
    "                                        para_dic['coupon']*para_dic['ob_day']\n",
    "                array[term,(i+term)*(2*term+1 )+(j+term)] = min(W_cont,para_dic['notion']+para_dic['coupon']*para_dic['ob_day'])\n",
    "                \n",
    "            else:\n",
    "                array[term,(i+term)*(2*term+1 )+(j+term)]=np.exp(-para_dic['r']*para_dic['dt'])*\\\n",
    "                    (para_dic['puu']*array[term+1,(i+term+1+1)*(2*term+1+2)+(j+term+1+1)]+\\\n",
    "                        para_dic['pud']*array[term+1,(i+term+1+1)*(2*term+1+2)+(j+term+1-1)]+\\\n",
    "                            para_dic['pdu']*array[term+1,(i+term+1-1)*(2*term+1+2)+(j+term+1+1)]+\\\n",
    "                                para_dic['pdd']*array[term+1,(i+term+1-1)*(2*term+1+2)+(j+term+1-1)]+\\\n",
    "                                    para_dic['phh']*array[term+1,(i+term+1)*(2*term+1+2)+(j+term+1)])+\\\n",
    "                                        para_dic['coupon']*(min(S1*para_dic['u1']**(i)/para_dic['K']\\\n",
    "                                            ,S2*para_dic['u2']**(j)/para_dic['K'])>1)*np.exp(-para_dic['r']*para_dic['dt'])"
   ]
  },
  {
   "cell_type": "code",
   "execution_count": 71,
   "metadata": {},
   "outputs": [
    {
     "data": {
      "text/plain": [
       "array([[1044561.99873319,       0.        ,       0.        , ...,\n",
       "              0.        ,       0.        ,       0.        ],\n",
       "       [1044220.6889325 , 1044463.14735041, 1044628.13088154, ...,\n",
       "              0.        ,       0.        ,       0.        ],\n",
       "       [1043683.46999643, 1044026.36473391, 1044264.80425368, ...,\n",
       "              0.        ,       0.        ,       0.        ],\n",
       "       ...,\n",
       "       [ 306384.90751066,  306813.85666698,  307247.5116681 , ...,\n",
       "              0.        ,       0.        ,       0.        ],\n",
       "       [ 303580.66854241,  303819.81606693,  304061.58719174, ...,\n",
       "              0.        ,       0.        ,       0.        ],\n",
       "       [ 300873.78808116,  300873.78808116,  300873.78808116, ...,\n",
       "        1010187.5       , 1010187.5       , 1010187.5       ]])"
      ]
     },
     "execution_count": 71,
     "metadata": {},
     "output_type": "execute_result"
    }
   ],
   "source": [
    "array"
   ]
  }
 ],
 "metadata": {
  "kernelspec": {
   "display_name": "base",
   "language": "python",
   "name": "python3"
  },
  "language_info": {
   "codemirror_mode": {
    "name": "ipython",
    "version": 3
   },
   "file_extension": ".py",
   "mimetype": "text/x-python",
   "name": "python",
   "nbconvert_exporter": "python",
   "pygments_lexer": "ipython3",
   "version": "3.9.7"
  },
  "orig_nbformat": 4
 },
 "nbformat": 4,
 "nbformat_minor": 2
}

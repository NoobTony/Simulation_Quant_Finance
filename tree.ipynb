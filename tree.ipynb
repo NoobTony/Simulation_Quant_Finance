{
 "cells": [
  {
   "cell_type": "code",
   "execution_count": 1,
   "metadata": {},
   "outputs": [],
   "source": [
    "import numpy as np\n",
    "class price_node:\n",
    "    def __init__(self, step, S ,K):\n",
    "        self.step = step\n",
    "        self.S = S\n",
    "        self.value = max(S-K,0)\n",
    "        self.left = None\n",
    "        self.right = None    \n",
    "    def __repr__(self):\n",
    "        return str('step:'+str(self.step)+'     S:'+str(self.S)+'   value:'+str(self.value))\n",
    "    \n",
    "class binomial_tree:\n",
    "    def __init__(self, sigma = 0.1, r = 0.05, S0 = 10, K = 12, T = 3, dt =0.5,cp='call',ae='European'):\n",
    "        self.n=int(T/dt)#terminal step\n",
    "        self.root = price_node(0,S0,K)\n",
    "        self.r=r;self.sigma=sigma\n",
    "        self.S0=S0;self.K=K\n",
    "        self.T=T;self.dt=dt\n",
    "        self.u=np.exp(sigma*dt**0.5) ;self.d=np.exp(-sigma*dt**0.5)\n",
    "        self.p=(np.exp(r*dt)-self.d)/(self.u-self.d)\n",
    "        self.value=0\n",
    "        self.n=int(T/dt)\n",
    "        self.generate_tree(self.root)\n",
    "    \n",
    "    def generate_tree(self,node):\n",
    "        if node.step==self.n:\n",
    "            node.value=max(node.S-self.K,0)\n",
    "        else:\n",
    "            node.left=price_node(node.step+1,node.S*self.u,self.K)\n",
    "            node.right=price_node(node.step+1,node.S*self.d,self.K)\n",
    "            self.generate_tree(node.left)\n",
    "            self.generate_tree(node.right)\n",
    "            node.value=np.exp(-self.r*self.dt)*(self.p*node.left.value+(1-self.p)*node.right.value)\n",
    "\n",
    "    def print_tree(self,node):\n",
    "        if node is None:\n",
    "            return\n",
    "        print(node)\n",
    "        self.print_tree(node.left)\n",
    "        self.print_tree(node.right)\n",
    "\n",
    "tree=binomial_tree(S0=810,K=800,T=0.5,dt=0.25,sigma=0.2,r=0.03)   "
   ]
  },
  {
   "cell_type": "code",
   "execution_count": 3,
   "metadata": {},
   "outputs": [
    {
     "name": "stdout",
     "output_type": "stream",
     "text": [
      "step:0     S:810   value:53.93134219594144\n",
      "step:1     S:895.1884436412746   value:101.1659997859638\n",
      "step:2     S:989.3362341097377   value:189.3362341097377\n",
      "step:2     S:810.0   value:10.0\n",
      "step:1     S:732.9183086091272   value:5.087690153119937\n",
      "step:2     S:810.0   value:10.0\n",
      "step:2     S:663.1719099931652   value:0\n"
     ]
    }
   ],
   "source": [
    "tree.print_tree(tree.root)"
   ]
  }
 ],
 "metadata": {
  "kernelspec": {
   "display_name": "base",
   "language": "python",
   "name": "python3"
  },
  "language_info": {
   "codemirror_mode": {
    "name": "ipython",
    "version": 3
   },
   "file_extension": ".py",
   "mimetype": "text/x-python",
   "name": "python",
   "nbconvert_exporter": "python",
   "pygments_lexer": "ipython3",
   "version": "3.9.7"
  },
  "orig_nbformat": 4
 },
 "nbformat": 4,
 "nbformat_minor": 2
}

{
 "cells": [
  {
   "cell_type": "code",
   "execution_count": 2,
   "metadata": {},
   "outputs": [],
   "source": [
    "import numpy as np\n",
    "class price_node:\n",
    "    def __init__(self, step, S ,K,cp='call',ae='European'):\n",
    "        self.step = step\n",
    "        self.S = S\n",
    "        self.value = max(S-K,0) if cp=='call' else max(K-S,0)\n",
    "        self.left = None\n",
    "        self.right = None    \n",
    "    def __repr__(self):\n",
    "        return str('step:'+str(self.step)+'     S:'+str(self.S)+'   value:'+str(self.value))\n",
    "    \n",
    "class binomial_tree:\n",
    "    def __init__(self, sigma = 0.1, r = 0.05, S0 = 10, K = 12, T = 3, dt =0.5,cp='call',ae='European'):\n",
    "        self.n=int(T/dt)#terminal step\n",
    "        self.root = price_node(0,S0,K)\n",
    "        self.r=r;self.sigma=sigma\n",
    "        self.S0=S0;self.K=K\n",
    "        self.T=T;self.dt=dt\n",
    "        self.u=np.exp(sigma*dt**0.5) ;self.d=np.exp(-sigma*dt**0.5)\n",
    "        self.p=(np.exp(r*dt)-self.d)/(self.u-self.d)\n",
    "        self.value=0\n",
    "        self.n=int(T/dt)\n",
    "        self.cp=cp\n",
    "        self.ae=ae\n",
    "        self.generate_tree(self.root)\n",
    "    \n",
    "    def generate_tree(self,node):\n",
    "        if node.step==self.n:\n",
    "            node.value=max(node.S-self.K,0) if self.cp=='call' else max(self.K-node.S,0)\n",
    "        else:\n",
    "            node.left=price_node(node.step+1,node.S*self.u,self.K,cp=self.cp,ae=self.ae)\n",
    "            node.right=price_node(node.step+1,node.S*self.d,self.K,cp=self.cp,ae=self.ae)\n",
    "            self.generate_tree(node.left)\n",
    "            self.generate_tree(node.right)\n",
    "            if self.ae=='European':\n",
    "                node.value=np.exp(-self.r*self.dt)*(self.p*node.left.value+(1-self.p)*node.right.value)\n",
    "            else:\n",
    "                node.value=max(np.exp(-self.r*self.dt)*(self.p*node.left.value+(1-self.p)*node.right.value), node.value)    \n",
    "\n",
    "    def print_tree(self,node):\n",
    "        if node is None:\n",
    "            return\n",
    "        print(node)\n",
    "        self.print_tree(node.left)\n",
    "        self.print_tree(node.right)\n",
    "\n"
   ]
  },
  {
   "cell_type": "code",
   "execution_count": 3,
   "metadata": {},
   "outputs": [
    {
     "name": "stdout",
     "output_type": "stream",
     "text": [
      "step:0     S:29   value:2.83771598784725\n",
      "step:1     S:34.60757280399054   value:0.4940878867328611\n",
      "step:2     S:41.29945156494848   value:0\n",
      "step:2     S:29.000000000000004   value:0.9999999999999964\n",
      "step:1     S:24.301039681783916   value:5.252318506307964\n",
      "step:2     S:29.0   value:1.0\n",
      "step:2     S:20.363466538470227   value:9.636533461529773\n"
     ]
    }
   ],
   "source": [
    "tree=binomial_tree(S0=29,K=30,T=1,dt=0.5,sigma=0.25,r=0.03,cp='put',ae='European')   \n",
    "tree.print_tree(tree.root)"
   ]
  },
  {
   "cell_type": "code",
   "execution_count": 4,
   "metadata": {},
   "outputs": [
    {
     "name": "stdout",
     "output_type": "stream",
     "text": [
      "step:0     S:29   value:3.05839629681947\n",
      "step:1     S:34.60757280399054   value:0.4940878867328611\n",
      "step:2     S:41.29945156494848   value:0\n",
      "step:2     S:29.000000000000004   value:0.9999999999999964\n",
      "step:1     S:24.301039681783916   value:5.698960318216084\n",
      "step:2     S:29.0   value:1.0\n",
      "step:2     S:20.363466538470227   value:9.636533461529773\n"
     ]
    }
   ],
   "source": [
    "tree=binomial_tree(S0=29,K=30,T=1,dt=0.5,sigma=0.25,r=0.03,cp='put',ae='American')   \n",
    "tree.print_tree(tree.root)"
   ]
  }
 ],
 "metadata": {
  "kernelspec": {
   "display_name": "base",
   "language": "python",
   "name": "python3"
  },
  "language_info": {
   "codemirror_mode": {
    "name": "ipython",
    "version": 3
   },
   "file_extension": ".py",
   "mimetype": "text/x-python",
   "name": "python",
   "nbconvert_exporter": "python",
   "pygments_lexer": "ipython3",
   "version": "3.9.7"
  },
  "orig_nbformat": 4
 },
 "nbformat": 4,
 "nbformat_minor": 2
}

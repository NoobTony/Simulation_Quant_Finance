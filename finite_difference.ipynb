{
 "cells": [
  {
   "attachments": {},
   "cell_type": "markdown",
   "metadata": {},
   "source": [
    "Finite difference method\n",
    "===="
   ]
  },
  {
   "attachments": {},
   "cell_type": "markdown",
   "metadata": {},
   "source": [
    "Basic one order diffence formula(centered, forward, backward)\n",
    "---\n",
    "$$f^{'} \\left(x\\right)\\approx \\frac{f(x+\\Delta x)-f(x-\\Delta x)}{2\\Delta x}=f^{'} (x)+\\frac{f^{'''} (x)}{6} \\delta x^2 +O(\\Delta x^4)$$\n",
    "\n",
    "$$f^{'}(x) \\approx \\frac{-f(x+2 \\Delta x)+4 f(x+ \\Delta x) -3f(x)}{2 \\Delta x}+O(\\Delta x^2) $$\n",
    "\n",
    "$$f^{'}(x) \\approx \\frac{f(x-2 \\Delta x)-4 f(x+ \\Delta x) +3f(x)}{2 \\Delta x}+O(\\Delta x^2) $$\n",
    "\n",
    "Two order difference formula(centered, forward, backward)\n",
    "---\n",
    "$$f^{''}(x) \\approx \\frac{f(x+\\Delta x)-2f(x)+f(x-\\Delta x)} {\\Delta x^2}$$ \n",
    "\n",
    "$$f^{''}(x) \\approx \\frac{2f(x)-5f(x+\\Delta x)+4 f(x+2\\Delta x)- f(x+3\\Delta x)}{\\Delta x^2}+O(\\Delta x^2) $$\n",
    "\n",
    "$$f^{''}(x) \\approx \\frac{2f(x)-5f(x-\\Delta x)+4 f(x-2\\Delta x)- f(x-3\\Delta x)}{\\Delta x^2}+O(\\Delta x^2) $$"
   ]
  },
  {
   "attachments": {},
   "cell_type": "markdown",
   "metadata": {},
   "source": [
    "Discretization of Black-Scholes equation\n",
    "===\n",
    "\n",
    "$$\\frac{\\partial V}{\\partial t}+rS\\frac{\\partial V}{\\partial S}+\\frac{\\sigma^2}{2}S^2\\frac{\\partial^2V}{\\partial S^2}-rV =0      $$\n",
    "substitute the equation with $\\tau=T-t,\\ x=ln S,\\ W=e^{r\\tau}V $\n",
    "$$\\frac{\\partial W}{\\partial \\tau}=\\frac{\\sigma^2}{2} \\frac{\\partial^2 W}{\\partial x^2}+(r-\\frac{\\sigma^2}{2})\\frac{\\partial W}{\\partial x}, \\  \\tau>0,-\\infty<x<\\infty $$"
   ]
  },
  {
   "attachments": {},
   "cell_type": "markdown",
   "metadata": {},
   "source": [
    "Explicit schemes\n",
    "-----\n",
    "$$\\frac{\\partial V}{\\partial \\tau} ( j \\Delta x, n \\Delta \\tau)\\approx \\frac{V^{n+1}_j-V^n_j}{\\Delta \\tau} $$\n",
    "$$\\frac{\\partial V}{\\partial x} ( j \\Delta x, n \\Delta \\tau)\\approx \\frac{V^{n+1}_j-V^n_{j-1}}{2 \\Delta x} $$\n",
    "$$\\frac{\\partial^2 V}{\\partial x^x} ( j \\Delta x, n \\Delta \\tau)\\approx \\frac{V^{n+1}_j-2V^n_j+V^n_{j-1}}{\\Delta x^2} $$\n",
    "\n",
    "$$  \n",
    "\\frac{W^{n+1}_j-W^n_j}{\\Delta \\tau}=\\frac{\\sigma^2}{2}\\frac{W^n_{j+1}-2 W^n_j+W^n_{j-1}}{\\Delta x^2}+(r-\\frac{\\sigma^2}{2})\\frac{ W^n_{j+1}-W^n_{j-1}}{2\\Delta x}\n",
    "$$"
   ]
  },
  {
   "attachments": {},
   "cell_type": "markdown",
   "metadata": {},
   "source": [
    "by observing\n",
    "$$W^{n+1}_{j}=e^{r(n+1)\\Delta \\tau} V^{n+1}_{j} \\ and\\ W^n_j=e^{rn\\Delta \\tau}V^n_j $$\n",
    "$$V^{n+1}_{j}=\\left[V^n_j+ \\frac{\\sigma^2}{2}\\frac{\\Delta \\tau}{\\Delta x^2}(V^n_{j+1}-2V^n_j+V^n_{j-1})+(r-\\frac{\\sigma^2}{2}) \\frac{\\Delta \\tau}{2 \\Delta x}(V^n_{j+1}-V^n_{j-1}) \\right] e^{-r\\Delta \\tau} $$\n",
    "\n",
    "$$V^{n+1}_j=b_1V^n_{j+1}+b_0V^n_j+b_{-1}V^n_{j-1} $$\n",
    "\n",
    "the formula of $b_1,b_0,b_{-1} are the same to trinomial parameter$\n",
    "\n",
    "$$b_1=\\left[ \\frac{\\sigma^2}{2}\\frac{\\Delta \\tau}{\\Delta x^2}+ (r- \\frac{\\sigma^2}{2})\\frac{\\Delta \\tau}{2\\Delta x} \\right]$$\n",
    "$$b_0=(1-\\frac{\\sigma^2}{2}\\frac{\\Delta \\tau}{\\Delta x^2})e^{-r \\Delta \\tau}$$\n",
    "$$b_{-1}=\\left[ \\frac{\\sigma^2}{2}\\frac{\\Delta \\tau}{\\Delta x^2}- (r- \\frac{\\sigma^2}{2})\\frac{\\Delta \\tau}{2\\Delta x} \\right]$$\n"
   ]
  },
  {
   "attachments": {},
   "cell_type": "markdown",
   "metadata": {},
   "source": [
    "Fully implicit scheme\n",
    "-----\n",
    "\n",
    "$$\\frac{V^{n-1}_j-V^n_j}{\\Delta \\tau}=\\frac{\\sigma^2}{2}\\frac{V^{n+1}_{j+1}-2V^{n+1}_{j}+V^{n+1}_{j-1}}{\\Delta x^2}+(r-\\frac{\\sigma^2}{2} )\\frac{V^{n+1}_{j+1}-V^{n+1}_{j-1}}{2\\Delta x} -rV^{n+1}_j$$\n",
    "\n",
    "\n",
    "\n",
    "$$a_1V^{n+1}_{j+1}+a_0V^{n+1}_j+a_{-1}V^{n+1}_{j-1}=V^{n}_j $$\n",
    "\n",
    "the formula of $b_1,b_0,b_{-1} are the same to trinomial parameter$\n",
    "\n",
    "$$a_1=-\\left[ \\frac{\\sigma^2}{2}\\frac{\\Delta \\tau}{\\Delta x^2}+ (r- \\frac{\\sigma^2}{2})\\frac{\\Delta \\tau}{2\\Delta x} \\right]$$\n",
    "$$a_0=1+\\sigma^2 \\frac{\\Delta \\tau}{\\Delta x^2}+r$$\n",
    "$$a_{-1}=-\\left[ \\frac{\\sigma^2}{2}\\frac{\\Delta \\tau}{\\Delta x^2}- (r- \\frac{\\sigma^2}{2})\\frac{\\Delta \\tau}{2\\Delta x} \\right]$$"
   ]
  },
  {
   "attachments": {},
   "cell_type": "markdown",
   "metadata": {},
   "source": [
    "Crank-Nicolson scheme\n",
    "-----\n",
    "\n",
    "$$V^{n+1}_{j}-V^n_j=\\frac{\\sigma^2}{2}\\frac{\\Delta \\tau}{\\Delta x^2}(\\frac{V^n_{j+1}-2V^n_j+V^n_{j-1}+V^{n+1}_{j+1}-2V^{n+1}_j+V^{n+1}_{j-1}}{2})+\\\\(r-\\frac{\\sigma^2}{2})\\frac{\\Delta \\tau}{2 \\Delta x}(\\frac{V^n_{j+1}-V^n_{j-1}+V^{n+1}_{j+1}-V^{n+1}_{j-1}}{2})-r\\Delta\\tau (\\frac{V^n_j+V^{n+1}_j}{2}) $$"
   ]
  }
 ],
 "metadata": {
  "language_info": {
   "name": "python"
  },
  "orig_nbformat": 4
 },
 "nbformat": 4,
 "nbformat_minor": 2
}
